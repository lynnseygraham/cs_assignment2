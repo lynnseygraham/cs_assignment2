{
  "nbformat": 4,
  "nbformat_minor": 0,
  "metadata": {
    "colab": {
      "name": "Assignment2.ipynb",
      "provenance": [],
      "collapsed_sections": [],
      "authorship_tag": "ABX9TyMeeI8UTYGuy8JswyuZXEep",
      "include_colab_link": true
    },
    "kernelspec": {
      "name": "python3",
      "display_name": "Python 3"
    }
  },
  "cells": [
    {
      "cell_type": "markdown",
      "metadata": {
        "id": "view-in-github",
        "colab_type": "text"
      },
      "source": [
        "<a href=\"https://colab.research.google.com/github/lynnseygraham/cs_assignment2/blob/main/Assignment2.ipynb\" target=\"_parent\"><img src=\"https://colab.research.google.com/assets/colab-badge.svg\" alt=\"Open In Colab\"/></a>"
      ]
    },
    {
      "cell_type": "markdown",
      "metadata": {
        "id": "SBx-j7NZRL36"
      },
      "source": [
        "*C = M^e mod n* <br>\n",
        "*M = C^d mod n = M^e)^d mod n = M^ed mod n* <br>\n",
        "C = 10 <br>\n",
        "PUb = {e=5, n=35} <br>\n",
        "a) M = ? <br>\n",
        "b) PRb = {d=?, n=35} <br>\n"
      ]
    },
    {
      "cell_type": "code",
      "metadata": {
        "id": "vzg3QQ1fRn1Q",
        "outputId": "fb5044f8-ddca-4c4f-c9d0-a4a40e3f1b01",
        "colab": {
          "base_uri": "https://localhost:8080/"
        }
      },
      "source": [
        "C = 10\n",
        "e = 5\n",
        "n = 35\n",
        "# 5 and 7 are the only possible values for p and q, given n=35\n",
        "p = 5\n",
        "q = 7\n",
        "\n",
        "#Euler's to find Øn\n",
        "Øn = (p-1)*(q-1)\n",
        "print ('Øn =', Øn)\n",
        "\n",
        "#Extended Euclidean to find d\n",
        "#d(e) = 1 mod Øn\n",
        "a = Øn\n",
        "b = e\n",
        "prevx, x = 1, 0\n",
        "prevy, y = 0, 1\n",
        "while b != 0:\n",
        "  q = a/b\n",
        "  x, prevx = prevx - q*x, x\n",
        "  y, prevy = prevy - q*y, y\n",
        "  a, b = b, a%b\n",
        "print('a, x, y = ',a, prevx, prevy)\n",
        "print('check: ', a*prevx + b*prevy)\n",
        "\n",
        "\n",
        "d = 0\n",
        "print('d =', d)\n",
        "\n"
      ],
      "execution_count": 51,
      "outputs": [
        {
          "output_type": "stream",
          "text": [
            "Øn = 24\n",
            "a, x, y =  1 -1.25 7.0\n",
            "check:  -1.25\n",
            "d = 0\n"
          ],
          "name": "stdout"
        }
      ]
    },
    {
      "cell_type": "markdown",
      "metadata": {
        "id": "CBko6aDdkzHX"
      },
      "source": [
        "24 = ? (5) r "
      ]
    },
    {
      "cell_type": "code",
      "metadata": {
        "id": "hShPXyYGlF3C",
        "outputId": "5bd42205-49d4-42d6-c30f-f4b72be9051a",
        "colab": {
          "base_uri": "https://localhost:8080/"
        }
      },
      "source": [
        "print(24%5)\n",
        "print(5%4)\n",
        "print(4%1)\n",
        "print(5-1*(24-4*(5)))\n",
        "print(4%24)\n",
        "\n",
        "print(42840/11, 42840%11)\n",
        "print(24/5, 24%5)\n",
        "print(4/1, 4%1)"
      ],
      "execution_count": 60,
      "outputs": [
        {
          "output_type": "stream",
          "text": [
            "4\n",
            "1\n",
            "0\n",
            "1\n",
            "4\n",
            "3894.5454545454545 6\n",
            "4.8 4\n",
            "4.0 0\n"
          ],
          "name": "stdout"
        }
      ]
    },
    {
      "cell_type": "code",
      "metadata": {
        "id": "1xgsFq9tazP0"
      },
      "source": [
        "def pandq(n):\n",
        "  data = []\n",
        "  for i in range (2, n):\n",
        "    if n % 1 == 0:\n",
        "      data.append(i)\n",
        "  return data"
      ],
      "execution_count": 36,
      "outputs": []
    },
    {
      "cell_type": "code",
      "metadata": {
        "id": "-gq-t-Ujbnoh"
      },
      "source": [
        "def euler(p,q):\n",
        "  return(p-1)*(q-1)\n"
      ],
      "execution_count": 19,
      "outputs": []
    },
    {
      "cell_type": "code",
      "metadata": {
        "id": "q8RWH8lRbw8E"
      },
      "source": [
        "def prix(e, euler_v):\n",
        "  for i in range(2, euler_v):\n",
        "    if i * e % euler_v == 1:\n",
        "      return i"
      ],
      "execution_count": 24,
      "outputs": []
    },
    {
      "cell_type": "code",
      "metadata": {
        "id": "LJm_J40ccEmZ",
        "outputId": "c9aab88c-b67f-4e77-f7e2-bcf1d153f335",
        "colab": {
          "base_uri": "https://localhost:8080/"
        }
      },
      "source": [
        "e = 7\n",
        "n = 143\n",
        "C = 7\n",
        "pq_v = pandq(n)\n",
        "print('pq_v =', pq_v)\n",
        "euler_v = euler(pq_v[0], pq_v[1])\n",
        "print('euler_v =', euler_v)\n",
        "d = prix(e, euler_v)\n",
        "print('d =',d)\n",
        "#M = (C**d % n\n",
        "#print('M =', M)"
      ],
      "execution_count": 37,
      "outputs": [
        {
          "output_type": "stream",
          "text": [
            "pq_v = [2, 3, 4, 5, 6, 7, 8, 9, 10, 11, 12, 13, 14, 15, 16, 17, 18, 19, 20, 21, 22, 23, 24, 25, 26, 27, 28, 29, 30, 31, 32, 33, 34, 35, 36, 37, 38, 39, 40, 41, 42, 43, 44, 45, 46, 47, 48, 49, 50, 51, 52, 53, 54, 55, 56, 57, 58, 59, 60, 61, 62, 63, 64, 65, 66, 67, 68, 69, 70, 71, 72, 73, 74, 75, 76, 77, 78, 79, 80, 81, 82, 83, 84, 85, 86, 87, 88, 89, 90, 91, 92, 93, 94, 95, 96, 97, 98, 99, 100, 101, 102, 103, 104, 105, 106, 107, 108, 109, 110, 111, 112, 113, 114, 115, 116, 117, 118, 119, 120, 121, 122, 123, 124, 125, 126, 127, 128, 129, 130, 131, 132, 133, 134, 135, 136, 137, 138, 139, 140, 141, 142]\n",
            "euler_v = 2\n",
            "d = None\n"
          ],
          "name": "stdout"
        }
      ]
    },
    {
      "cell_type": "code",
      "metadata": {
        "id": "pV5kuL9QXefY",
        "outputId": "956a8383-da30-4813-feb0-f0571c903fdf",
        "colab": {
          "base_uri": "https://localhost:8080/"
        }
      },
      "source": [
        "for i in range(1,9):\n",
        "  x = 35/i\n",
        "  print(i, x)\n",
        "\n",
        "print(35%4)\n",
        "\n",
        "print(-17%40)"
      ],
      "execution_count": 53,
      "outputs": [
        {
          "output_type": "stream",
          "text": [
            "1 35.0\n",
            "2 17.5\n",
            "3 11.666666666666666\n",
            "4 8.75\n",
            "5 7.0\n",
            "6 5.833333333333333\n",
            "7 5.0\n",
            "8 4.375\n",
            "3\n",
            "23\n"
          ],
          "name": "stdout"
        }
      ]
    },
    {
      "cell_type": "code",
      "metadata": {
        "id": "p1l68GQZd3zo",
        "outputId": "1feae954-3abe-4e4b-e5b1-862416a1ff4f",
        "colab": {
          "base_uri": "https://localhost:8080/"
        }
      },
      "source": [
        "def p_and_q(n):\n",
        "   data = []\n",
        "   for i in range(2, n):\n",
        "      if n % i == 0:\n",
        "         data.append(i)\n",
        "   return data\n",
        "\n",
        "def euler(p, q):\n",
        "   return (p - 1) * (q - 1)\n",
        "\n",
        "def private_index(e, euler_v):\n",
        "   for i in range(2, euler_v):\n",
        "      if i * e % euler_v == 1:\n",
        "         return i\n",
        "\n",
        "def decipher(d, n, c):\n",
        "   return c ** d % n\n",
        "\n",
        "def main():\n",
        "    e = int(input(\"input e: \"))\n",
        "    n = int(input(\"input n: \"))\n",
        "    c = int(input(\"input c: \"))\n",
        "    \n",
        "    # t = 123\n",
        "    # private key = (103, 143)\n",
        "    p_and_q_v = p_and_q(n)\n",
        "    # print(\"[p_and_q]: \", p_and_q_v)\n",
        "    euler_v = euler(p_and_q_v[0], p_and_q_v[1])\n",
        "    \n",
        "    # print(\"[euler]: \", euler_v)\n",
        "    d = private_index(e, euler_v)\n",
        "    print('d =',d)\n",
        "    plain = decipher(d, n, c)\n",
        "    print(\"plain: \", plain)\n",
        "\n",
        "if __name__ == \"__main__\":\n",
        "   main()"
      ],
      "execution_count": 52,
      "outputs": [
        {
          "output_type": "stream",
          "text": [
            "input e: 5\n",
            "input n: 35\n",
            "input c: 10\n",
            "d = 5\n",
            "plain:  5\n"
          ],
          "name": "stdout"
        }
      ]
    },
    {
      "cell_type": "markdown",
      "metadata": {
        "id": "dUMJrCw3PBdL"
      },
      "source": [
        "# Q2"
      ]
    },
    {
      "cell_type": "code",
      "metadata": {
        "id": "n8NL36_EPANa",
        "outputId": "1a96616a-8462-4ff5-8bb7-00c8266eef10",
        "colab": {
          "base_uri": "https://localhost:8080/"
        }
      },
      "source": [
        "q = 11\n",
        "a = 2\n",
        "\n",
        "Y_A = 9\n",
        "X_A = 0\n",
        "Y_B = 3\n",
        "X_B = 0\n",
        "\n",
        "#a) What is A's private key, X_A, given that Y_A=9?\n",
        "for i in range(1, 100):\n",
        "  x = a**i % q\n",
        "  if x == Y_A:\n",
        "    X_A = i\n",
        "    print('a) A\\'s private key is:', X_A)\n",
        "    break\n",
        "\n",
        "#b) What is secret key K shared with A?\n",
        "K = Y_B**X_A % q\n",
        "print('b) The shared secret key is:', K)\n"
      ],
      "execution_count": 80,
      "outputs": [
        {
          "output_type": "stream",
          "text": [
            "a) A's private key is: 6\n",
            "b) The shared secret key is: 3\n"
          ],
          "name": "stdout"
        }
      ]
    },
    {
      "cell_type": "markdown",
      "metadata": {
        "id": "N9SY0AVOZ7cX"
      },
      "source": [
        "#Q3\n"
      ]
    },
    {
      "cell_type": "code",
      "metadata": {
        "id": "rMnjTLhoZ9cC",
        "outputId": "ab8f29f2-34a5-4618-9596-56d2e7289a33",
        "colab": {
          "base_uri": "https://localhost:8080/"
        }
      },
      "source": [
        "#a) Compute hashes of 16 sets of 3 random prime numbers less than 2^8 (256)\n",
        "# Generate set of all primes < 256\n",
        "prime_list = []\n",
        "comp_list = []\n",
        "for i in range(1, 256):\n",
        "  if i > 1:\n",
        "    for j in range(2, i):\n",
        "      if (i % j) == 0:\n",
        "        comp_list.append(i)\n",
        "      else:\n",
        "        prime_list.append(i)\n",
        "        #print(i)\n",
        "prime_set = list(set(prime_list))\n",
        "comp_set = list(set(comp_list))\n",
        "#print(prime_set)\n",
        "#print(comp_set)\n",
        "\n",
        "# Generate 16 sets of 3 random primes from set generated above\n",
        "import random\n",
        "randset = []\n",
        "hashes = []\n",
        "print('List of 16 Valid messages:')\n",
        "for i in range(0,16):\n",
        "  randset.append(random.sample(prime_list, k=3))\n",
        "  hashes.append(randset[i][0] ^ randset[i][1] ^ randset[i][2])\n",
        "  print('{0:10} {1}'.format(str(randset[i]), ' || '+str(hashes[i])))\n",
        "\n",
        "print('\\nLooking for fraud message that matches valid message\\'s hash...')\n",
        "\n",
        "comp_randset = []\n",
        "fraud_hashes = []\n",
        "for i in range(0, 1000):\n",
        "  comp_randset.append(random.sample(comp_list, k=3))\n",
        "  fraud_hashes.append(comp_randset[i][0] ^ comp_randset[i][1] ^ comp_randset[i][2])\n",
        "  if fraud_hashes[i] in hashes:\n",
        "    index = hashes.index(fraud_hashes[i])\n",
        "    print('\\nCollision found after', i, 'attempts:')\n",
        "    print('{0:10} {1}'.format(str(randset[index]), ' || '+str(hashes[index])))\n",
        "    print('{0:10} {1}'.format(str(comp_randset[i]), ' || '+str(fraud_hashes[i])))\n",
        "    break\n"
      ],
      "execution_count": 125,
      "outputs": [
        {
          "output_type": "stream",
          "text": [
            "List of 16 Valid messages:\n",
            "[191, 238, 166]  || 247\n",
            "[240, 175, 249]  || 166\n",
            "[235, 115, 131]  || 27\n",
            "[110, 55, 195]  || 154\n",
            "[177, 154, 125]  || 86\n",
            "[194, 199, 203]  || 206\n",
            "[106, 47, 243]  || 182\n",
            "[234, 53, 155]  || 68\n",
            "[86, 190, 167]  || 79\n",
            "[160, 237, 233]  || 164\n",
            "[200, 243, 182]  || 141\n",
            "[214, 128, 136]  || 222\n",
            "[132, 250, 26]  || 100\n",
            "[198, 65, 93]  || 218\n",
            "[189, 198, 183]  || 204\n",
            "[94, 176, 82]  || 188\n",
            "\n",
            "Looking for fraud message that matches valid message's hash...\n",
            "\n",
            "Collision found after 12 attempts:\n",
            "[240, 175, 249]  || 166\n",
            "[60, 206, 84]  || 166\n"
          ],
          "name": "stdout"
        }
      ]
    }
  ]
}