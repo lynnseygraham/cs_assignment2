{
  "nbformat": 4,
  "nbformat_minor": 0,
  "metadata": {
    "colab": {
      "name": "Assignment2.ipynb",
      "provenance": [],
      "collapsed_sections": [],
      "authorship_tag": "ABX9TyOFV91EvAMwr2mb/boSufza",
      "include_colab_link": true
    },
    "kernelspec": {
      "name": "python3",
      "display_name": "Python 3"
    }
  },
  "cells": [
    {
      "cell_type": "markdown",
      "metadata": {
        "id": "view-in-github",
        "colab_type": "text"
      },
      "source": [
        "<a href=\"https://colab.research.google.com/github/lynnseygraham/cs_assignment2/blob/main/Assignment2.ipynb\" target=\"_parent\"><img src=\"https://colab.research.google.com/assets/colab-badge.svg\" alt=\"Open In Colab\"/></a>"
      ]
    },
    {
      "cell_type": "markdown",
      "metadata": {
        "id": "SBx-j7NZRL36"
      },
      "source": [
        "*C = M^e mod n* <br>\n",
        "*M = C^d mod n = M^e)^d mod n = M^ed mod n* <br>\n",
        "C = 10 <br>\n",
        "PUb = {e=5, n=35} <br>\n",
        "a) M = ? <br>\n",
        "b) PRb = {d=?, n=35} <br>\n"
      ]
    },
    {
      "cell_type": "code",
      "metadata": {
        "id": "vzg3QQ1fRn1Q",
        "outputId": "3535569d-d003-44f8-8d17-0ebbaee618d7",
        "colab": {
          "base_uri": "https://localhost:8080/"
        }
      },
      "source": [
        "C = 10\n",
        "e = 5\n",
        "n = 35\n",
        "# 5 and 7 are the only possible values for p and q, given n=35\n",
        "p = 5\n",
        "q = 7\n",
        "\n",
        "#Euler's to find Øn\n",
        "Øn = (p-1)*(q-1)\n",
        "print ('Øn =', Øn)\n",
        "\n",
        "#Euclidean to find d\n",
        "#d(e) = 1 mod Øn\n",
        "\n",
        "\n",
        "d = 0\n",
        "print('d =', d)\n",
        "\n"
      ],
      "execution_count": 43,
      "outputs": [
        {
          "output_type": "stream",
          "text": [
            "Øn = 24\n",
            "d = 0\n"
          ],
          "name": "stdout"
        }
      ]
    },
    {
      "cell_type": "code",
      "metadata": {
        "id": "1xgsFq9tazP0"
      },
      "source": [
        "def pandq(n):\n",
        "  data = []\n",
        "  for i in range (2, n):\n",
        "    if n % 1 == 0:\n",
        "      data.append(i)\n",
        "  return data"
      ],
      "execution_count": 36,
      "outputs": []
    },
    {
      "cell_type": "code",
      "metadata": {
        "id": "-gq-t-Ujbnoh"
      },
      "source": [
        "def euler(p,q):\n",
        "  return(p-1)*(q-1)\n"
      ],
      "execution_count": 19,
      "outputs": []
    },
    {
      "cell_type": "code",
      "metadata": {
        "id": "q8RWH8lRbw8E"
      },
      "source": [
        "def prix(e, euler_v):\n",
        "  for i in range(2, euler_v):\n",
        "    if i * e % euler_v == 1:\n",
        "      return i"
      ],
      "execution_count": 24,
      "outputs": []
    },
    {
      "cell_type": "code",
      "metadata": {
        "id": "LJm_J40ccEmZ",
        "outputId": "c9aab88c-b67f-4e77-f7e2-bcf1d153f335",
        "colab": {
          "base_uri": "https://localhost:8080/"
        }
      },
      "source": [
        "e = 7\n",
        "n = 143\n",
        "C = 7\n",
        "pq_v = pandq(n)\n",
        "print('pq_v =', pq_v)\n",
        "euler_v = euler(pq_v[0], pq_v[1])\n",
        "print('euler_v =', euler_v)\n",
        "d = prix(e, euler_v)\n",
        "print('d =',d)\n",
        "#M = (C**d % n\n",
        "#print('M =', M)"
      ],
      "execution_count": 37,
      "outputs": [
        {
          "output_type": "stream",
          "text": [
            "pq_v = [2, 3, 4, 5, 6, 7, 8, 9, 10, 11, 12, 13, 14, 15, 16, 17, 18, 19, 20, 21, 22, 23, 24, 25, 26, 27, 28, 29, 30, 31, 32, 33, 34, 35, 36, 37, 38, 39, 40, 41, 42, 43, 44, 45, 46, 47, 48, 49, 50, 51, 52, 53, 54, 55, 56, 57, 58, 59, 60, 61, 62, 63, 64, 65, 66, 67, 68, 69, 70, 71, 72, 73, 74, 75, 76, 77, 78, 79, 80, 81, 82, 83, 84, 85, 86, 87, 88, 89, 90, 91, 92, 93, 94, 95, 96, 97, 98, 99, 100, 101, 102, 103, 104, 105, 106, 107, 108, 109, 110, 111, 112, 113, 114, 115, 116, 117, 118, 119, 120, 121, 122, 123, 124, 125, 126, 127, 128, 129, 130, 131, 132, 133, 134, 135, 136, 137, 138, 139, 140, 141, 142]\n",
            "euler_v = 2\n",
            "d = None\n"
          ],
          "name": "stdout"
        }
      ]
    },
    {
      "cell_type": "code",
      "metadata": {
        "id": "pV5kuL9QXefY",
        "outputId": "3da76376-03f5-4893-caac-95d29bb5795a",
        "colab": {
          "base_uri": "https://localhost:8080/"
        }
      },
      "source": [
        "for i in range(1,9):\n",
        "  x = 35/i\n",
        "  print(i, x)\n",
        "\n",
        "print(35%4)"
      ],
      "execution_count": 41,
      "outputs": [
        {
          "output_type": "stream",
          "text": [
            "1 35.0\n",
            "2 17.5\n",
            "3 11.666666666666666\n",
            "4 8.75\n",
            "5 7.0\n",
            "6 5.833333333333333\n",
            "7 5.0\n",
            "8 4.375\n",
            "3\n"
          ],
          "name": "stdout"
        }
      ]
    },
    {
      "cell_type": "code",
      "metadata": {
        "id": "p1l68GQZd3zo",
        "outputId": "2d8e76c2-c546-4113-b101-18e2568a8dfb",
        "colab": {
          "base_uri": "https://localhost:8080/"
        }
      },
      "source": [
        "def p_and_q(n):\n",
        "   data = []\n",
        "   for i in range(2, n):\n",
        "      if n % i == 0:\n",
        "         data.append(i)\n",
        "   return data\n",
        "\n",
        "def euler(p, q):\n",
        "   return (p - 1) * (q - 1)\n",
        "\n",
        "def private_index(e, euler_v):\n",
        "   for i in range(2, euler_v):\n",
        "      if i * e % euler_v == 1:\n",
        "         return i\n",
        "\n",
        "def decipher(d, n, c):\n",
        "   return c ** d % n\n",
        "\n",
        "def main():\n",
        "    e = int(input(\"input e: \"))\n",
        "    n = int(input(\"input n: \"))\n",
        "    c = int(input(\"input c: \"))\n",
        "    \n",
        "    # t = 123\n",
        "    # private key = (103, 143)\n",
        "    p_and_q_v = p_and_q(n)\n",
        "    # print(\"[p_and_q]: \", p_and_q_v)\n",
        "    euler_v = euler(p_and_q_v[0], p_and_q_v[1])\n",
        "    \n",
        "    # print(\"[euler]: \", euler_v)\n",
        "    d = private_index(e, euler_v)\n",
        "    plain = decipher(d, n, c)\n",
        "    print(\"plain: \", plain)\n",
        "\n",
        "if __name__ == \"__main__\":\n",
        "   main()"
      ],
      "execution_count": 35,
      "outputs": [
        {
          "output_type": "stream",
          "text": [
            "input e: 5\n",
            "input n: 35\n",
            "input c: 10\n",
            "plain:  5\n"
          ],
          "name": "stdout"
        }
      ]
    }
  ]
}